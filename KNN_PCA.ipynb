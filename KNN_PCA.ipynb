{
 "cells": [
  {
   "cell_type": "markdown",
   "id": "a7a3787a",
   "metadata": {},
   "source": [
    "# Imports"
   ]
  },
  {
   "cell_type": "code",
   "execution_count": 20,
   "id": "cdb60069",
   "metadata": {},
   "outputs": [],
   "source": [
    "import time\n",
    "import numpy as np\n",
    "import h5py\n",
    "import matplotlib.pyplot as plt\n",
    "import seaborn as sns\n",
    "import pandas as pd"
   ]
  },
  {
   "cell_type": "markdown",
   "id": "da2748e5",
   "metadata": {},
   "source": [
    "# Importing datasets"
   ]
  },
  {
   "cell_type": "code",
   "execution_count": 2,
   "id": "2579a994",
   "metadata": {},
   "outputs": [],
   "source": [
    "import numpy as np\n",
    "import h5py\n",
    "    \n",
    "def load_dataset():\n",
    "    train_dataset = h5py.File('datasets/train_catvnoncat.h5', \"r\")\n",
    "    train_set_x_orig = np.array(train_dataset[\"train_set_x\"][:]) # your train set features\n",
    "    train_set_y_orig = np.array(train_dataset[\"train_set_y\"][:]) # your train set labels\n",
    "\n",
    "    test_dataset = h5py.File('datasets/test_catvnoncat.h5', \"r\")\n",
    "    test_set_x_orig = np.array(test_dataset[\"test_set_x\"][:]) # your test set features\n",
    "    test_set_y_orig = np.array(test_dataset[\"test_set_y\"][:]) # your test set labels\n",
    "\n",
    "    classes = np.array(test_dataset[\"list_classes\"][:]) # the list of classes\n",
    "    \n",
    "    train_set_y_orig = train_set_y_orig.reshape((1, train_set_y_orig.shape[0]))\n",
    "    test_set_y_orig = test_set_y_orig.reshape((1, test_set_y_orig.shape[0]))\n",
    "    \n",
    "    return train_set_x_orig, np.transpose(train_set_y_orig), test_set_x_orig, np.transpose(test_set_y_orig), classes"
   ]
  },
  {
   "cell_type": "code",
   "execution_count": 3,
   "id": "94aa4a8d",
   "metadata": {},
   "outputs": [],
   "source": [
    "train_x, train_y, test_x, test_y, classes = load_dataset()"
   ]
  },
  {
   "cell_type": "code",
   "execution_count": 4,
   "id": "7fe1d178",
   "metadata": {},
   "outputs": [
    {
     "name": "stdout",
     "output_type": "stream",
     "text": [
      "y = 1. It's a cat picture.\n"
     ]
    },
    {
     "data": {
      "image/png": "[encoded data removed]",
      "text/plain": [
       "<Figure size 432x288 with 1 Axes>"
      ]
     },
     "metadata": {
      "needs_background": "light"
     },
     "output_type": "display_data"
    }
   ],
   "source": [
    "# Example of a picture\n",
    "index = 25\n",
    "plt.imshow(train_x[index])\n",
    "print (\"y = \" + str(train_y[index,0]) + \". It's a \" + classes[train_y[index,0]].decode(\"utf-8\") +  \" picture.\")"
   ]
  },
  {
   "cell_type": "code",
   "execution_count": 5,
   "id": "04d9faa4",
   "metadata": {},
   "outputs": [],
   "source": [
    "train_y = train_y.reshape(-1)\n",
    "test_y = test_y.reshape(-1)"
   ]
  },
  {
   "cell_type": "code",
   "execution_count": 6,
   "id": "098eabed",
   "metadata": {},
   "outputs": [
    {
     "name": "stdout",
     "output_type": "stream",
     "text": [
      "Train x shape is - (209, 64, 64, 3), Train y shape is - (209,)\n",
      "Test x shape is - (50, 64, 64, 3), Test y shape is - (50,)\n"
     ]
    }
   ],
   "source": [
    "print(f'Train x shape is - {train_x.shape}, Train y shape is - {train_y.shape}')\n",
    "print(f'Test x shape is - {test_x.shape}, Test y shape is - {test_y.shape}')"
   ]
  },
  {
   "cell_type": "markdown",
   "id": "00c3452f",
   "metadata": {},
   "source": [
    "# Principal component analysis"
   ]
  },
  {
   "cell_type": "code",
   "execution_count": 13,
   "id": "df87e033",
   "metadata": {},
   "outputs": [],
   "source": [
    "from sklearn.preprocessing import StandardScaler\n",
    "from sklearn.decomposition import PCA"
   ]
  },
  {
   "cell_type": "code",
   "execution_count": 14,
   "id": "4f761527",
   "metadata": {},
   "outputs": [],
   "source": [
    "n_train = train_x.shape[0]\n",
    "n_test = test_x.shape[0]"
   ]
  },
  {
   "cell_type": "code",
   "execution_count": 15,
   "id": "c3c3723a",
   "metadata": {},
   "outputs": [
    {
     "name": "stdout",
     "output_type": "stream",
     "text": [
      "(209, 12288) (50, 12288)\n"
     ]
    }
   ],
   "source": [
    "train_x = train_x.reshape(n_train,-1)\n",
    "test_x = test_x.reshape(n_test,-1)\n",
    "print(train_x.shape, test_x.shape)"
   ]
  },
  {
   "cell_type": "code",
   "execution_count": 16,
   "id": "4e854085",
   "metadata": {},
   "outputs": [],
   "source": [
    "scaler = StandardScaler()\n",
    "scaler.fit(train_x)\n",
    "scaler.fit(test_x)\n",
    "\n",
    "train_x = scaler.transform(train_x)\n",
    "test_x = scaler.transform(test_x)"
   ]
  },
  {
   "cell_type": "code",
   "execution_count": 27,
   "id": "5707fe69",
   "metadata": {},
   "outputs": [],
   "source": [
    "pca = PCA(n_components=2)\n",
    "train_x = pca.fit_transform(train_x)"
   ]
  },
  {
   "cell_type": "code",
   "execution_count": 34,
   "id": "bde619bd",
   "metadata": {},
   "outputs": [],
   "source": [
    "pca = PCA(n_components=2)\n",
    "test_x = pca.fit_transform(test_x)"
   ]
  },
  {
   "cell_type": "code",
   "execution_count": 28,
   "id": "a3746acd",
   "metadata": {},
   "outputs": [],
   "source": [
    "n_points = train_x.shape[0]\n",
    "distances = []\n",
    "for i in range(n_points):\n",
    "    point = train_x[i]\n",
    "    temp_points = train_x[i+1:]\n",
    "    for j in range(temp_points.shape[0]):\n",
    "        dist = np.linalg.norm(point - temp_points[j])\n",
    "        distances.append(dist)"
   ]
  },
  {
   "cell_type": "code",
   "execution_count": 29,
   "id": "01f89e12",
   "metadata": {},
   "outputs": [
    {
     "data": {
      "text/plain": [
       "<seaborn.axisgrid.FacetGrid at 0x7f41796d9eb8>"
      ]
     },
     "execution_count": 29,
     "metadata": {},
     "output_type": "execute_result"
    },
    {
     "data": {
      "image/png": "[encoded data removed]",
      "text/plain": [
       "<Figure size 360x360 with 1 Axes>"
      ]
     },
     "metadata": {
      "needs_background": "light"
     },
     "output_type": "display_data"
    }
   ],
   "source": [
    "sns.displot(distances)"
   ]
  },
  {
   "cell_type": "markdown",
   "id": "378158d1",
   "metadata": {},
   "source": [
    "# KNN Algorithm"
   ]
  },
  {
   "cell_type": "code",
   "execution_count": 30,
   "id": "081ac6f6",
   "metadata": {},
   "outputs": [],
   "source": [
    "from sklearn.neighbors import KNeighborsClassifier\n",
    "from sklearn.neighbors import RadiusNeighborsClassifier"
   ]
  },
  {
   "cell_type": "code",
   "execution_count": 31,
   "id": "ca6cdb9e",
   "metadata": {},
   "outputs": [
    {
     "data": {
      "text/plain": [
       "KNeighborsClassifier()"
      ]
     },
     "execution_count": 31,
     "metadata": {},
     "output_type": "execute_result"
    }
   ],
   "source": [
    "knn_classifier = KNeighborsClassifier(n_neighbors=5)\n",
    "knn_classifier.fit(train_x,train_y)"
   ]
  },
  {
   "cell_type": "code",
   "execution_count": 35,
   "id": "2e89b89b",
   "metadata": {},
   "outputs": [],
   "source": [
    "y_pred_knn = knn_classifier.predict(test_x)"
   ]
  },
  {
   "cell_type": "code",
   "execution_count": 36,
   "id": "7ee2f396",
   "metadata": {},
   "outputs": [],
   "source": [
    "from sklearn.metrics import classification_report,confusion_matrix"
   ]
  },
  {
   "cell_type": "code",
   "execution_count": 37,
   "id": "2f3129ce",
   "metadata": {},
   "outputs": [
    {
     "name": "stdout",
     "output_type": "stream",
     "text": [
      "              precision    recall  f1-score   support\n",
      "\n",
      "           0       0.43      0.88      0.58        17\n",
      "           1       0.87      0.39      0.54        33\n",
      "\n",
      "    accuracy                           0.56        50\n",
      "   macro avg       0.65      0.64      0.56        50\n",
      "weighted avg       0.72      0.56      0.55        50\n",
      "\n"
     ]
    }
   ],
   "source": [
    "print(classification_report(test_y,y_pred_knn))"
   ]
  }
 ],
 "metadata": {
  "kernelspec": {
   "display_name": "conda_pytorch_p36",
   "language": "python",
   "name": "conda_pytorch_p36"
  },
  "language_info": {
   "codemirror_mode": {
    "name": "ipython",
    "version": 3
   },
   "file_extension": ".py",
   "mimetype": "text/x-python",
   "name": "python",
   "nbconvert_exporter": "python",
   "pygments_lexer": "ipython3",
   "version": "3.6.13"
  }
 },
 "nbformat": 4,
 "nbformat_minor": 5
}
